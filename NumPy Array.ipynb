{
 "cells": [
  {
   "cell_type": "markdown",
   "id": "b2289319",
   "metadata": {},
   "source": [
    "# Problem :-1      NumPy Array"
   ]
  },
  {
   "cell_type": "code",
   "execution_count": 3,
   "id": "2647e4da",
   "metadata": {},
   "outputs": [
    {
     "name": "stdout",
     "output_type": "stream",
     "text": [
      "Enter the order of the matrix: 3\n",
      "Enter the values for the 3x3 matrix:\n",
      "Enter row 1 values: 1 2 3\n",
      "Enter row 2 values: 4 5 6\n",
      "Enter row 3 values: 7 8 9\n",
      "The sum of the diagonal elements is: 15\n"
     ]
    }
   ],
   "source": [
    "import numpy as np\n",
    "\n",
    "order = int(input(\"Enter the order of the matrix: \"))\n",
    "\n",
    "matrix_values = []\n",
    "\n",
    "print(f\"Enter the values for the {order}x{order} matrix:\")\n",
    "for i in range(order):\n",
    "    row = list(map(int, input(f\"Enter row {i + 1} values: \").split()))\n",
    "    matrix_values.append(row)\n",
    "\n",
    "matrix = np.array(matrix_values)\n",
    "\n",
    "diagonal_sum = 0\n",
    "for i in range(order):\n",
    "    diagonal_sum += matrix[i, i]\n",
    "\n",
    "print(f\"The sum of the diagonal elements is: {diagonal_sum}\")\n"
   ]
  }
 ],
 "metadata": {
  "kernelspec": {
   "display_name": "Python 3 (ipykernel)",
   "language": "python",
   "name": "python3"
  },
  "language_info": {
   "codemirror_mode": {
    "name": "ipython",
    "version": 3
   },
   "file_extension": ".py",
   "mimetype": "text/x-python",
   "name": "python",
   "nbconvert_exporter": "python",
   "pygments_lexer": "ipython3",
   "version": "3.11.5"
  }
 },
 "nbformat": 4,
 "nbformat_minor": 5
}
